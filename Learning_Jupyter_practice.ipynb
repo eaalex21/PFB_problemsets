{
 "cells": [
  {
   "cell_type": "markdown",
   "id": "3461290a",
   "metadata": {},
   "source": [
    "## Markdown\n",
    "to access:use of dropdown menu to switch to markdown line\n",
    "\n",
    "Include important general info here:\n",
    "Created by: Elaine Aquino\n",
    "Created on: 19 October 2022\n",
    "Last edit:\n",
    "\n",
    "etc. "
   ]
  },
  {
   "cell_type": "code",
   "execution_count": 7,
   "id": "bb51d39e",
   "metadata": {},
   "outputs": [],
   "source": [
    "# Import necessary modules/libraries\n",
    "import pandas as pd"
   ]
  },
  {
   "cell_type": "code",
   "execution_count": 9,
   "id": "0d886436",
   "metadata": {},
   "outputs": [
    {
     "name": "stdout",
     "output_type": "stream",
     "text": [
      "Hello!\n"
     ]
    }
   ],
   "source": [
    "# Group lines that work together\n",
    "# create directories or \n",
    "# f(x) that go together to complete single task\n",
    "\n",
    "print('Hello!')"
   ]
  },
  {
   "cell_type": "markdown",
   "id": "9324ec3f",
   "metadata": {},
   "source": [
    "#Tips\n",
    "using \"Cell\" drop down, you can run multiple cells at once"
   ]
  },
  {
   "cell_type": "code",
   "execution_count": null,
   "id": "7d021703",
   "metadata": {},
   "outputs": [],
   "source": []
  }
 ],
 "metadata": {
  "kernelspec": {
   "display_name": "Python 3 (ipykernel)",
   "language": "python",
   "name": "python3"
  },
  "language_info": {
   "codemirror_mode": {
    "name": "ipython",
    "version": 3
   },
   "file_extension": ".py",
   "mimetype": "text/x-python",
   "name": "python",
   "nbconvert_exporter": "python",
   "pygments_lexer": "ipython3",
   "version": "3.8.13"
  }
 },
 "nbformat": 4,
 "nbformat_minor": 5
}
